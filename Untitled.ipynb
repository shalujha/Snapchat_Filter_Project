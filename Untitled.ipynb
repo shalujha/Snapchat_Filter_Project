{
 "cells": [
  {
   "cell_type": "code",
   "execution_count": 28,
   "metadata": {},
   "outputs": [],
   "source": [
    "import cv2\n",
    "import numpy as np\n",
    "import pandas as pd\n",
    "face=cv2.imread(r'Before.png',-1)\n",
    "specs=cv2.imread(r'glasses.png',-1)\n",
    "mustache=cv2.imread(r'mustache.png',-1)\n",
    "eyes_cascade=cv2.CascadeClassifier('frontalEyes35x16.xml')\n",
    "eyes=eyes_cascade.detectMultiScale(face,1.3,5)\n",
    "nose_cascade=cv2.CascadeClassifier('Nose18x15.xml')\n",
    "noses=nose_cascade.detectMultiScale(face,1.3,5)\n",
    "[(x,y,w,h)]=eyes\n",
    "[(nx,ny,nw,nh)]=noses\n",
    "specs=cv2.resize(specs,(h+h//2,w+w//2))\n",
    "mustache=cv2.resize(mustache,(h-h//3,w))\n",
    "face=cv2.cvtColor(face,cv2.COLOR_BGR2BGRA)\n",
    "specs=cv2.cvtColor(specs,cv2.COLOR_BGR2BGRA)\n",
    "mustache=cv2.cvtColor(mustache,cv2.COLOR_BGR2BGRA)\n",
    "w,h,c=specs.shape\n",
    "nw,nh,nc=mustache.shape\n",
    "for i in range(0,w):\n",
    "\tfor j in range(0,h):\n",
    "\t\tif specs[i][j][3]!=0:\n",
    "\t\t\tface[y+i][x+j-nh//2]=specs[i][j]\n",
    "for i in range(0,nw):\n",
    "\tfor j in range(0,nh):\n",
    "\t\tif mustache[i][j][3]!=0:\n",
    "\t\t\tface[ny+i+nh//3][nx+j-nw//5]=mustache[i][j]\n",
    "new_face=cv2.cvtColor(face,cv2.COLOR_BGRA2BGR)\n",
    "#print(type(new_face))\n",
    "#print(new_face.shape)\n",
    "new_face=new_face.reshape((-1,3))"
   ]
  },
  {
   "cell_type": "code",
   "execution_count": 32,
   "metadata": {},
   "outputs": [],
   "source": [
    "red=[]\n",
    "blue=[]\n",
    "green=[]\n",
    "# testing \n",
    "for i in range(new_face.shape[0]):\n",
    "\tred.append(new_face[i,0])\n",
    "\tgreen.append(new_face[i,1])\n",
    "\tblue.append(new_face[i,2])\n",
    "red=np.array(red).reshape((-1,1))\n",
    "blue=np.array(blue).reshape((-1,1))\n",
    "green=np.array(green).reshape((-1,1))\n",
    "result=np.concatenate((red,green,blue),axis=1)\n",
    "#result=np.stack((red,green,blue),axis=1)\n",
    "result_df=pd.DataFrame(result,columns=[\"Channel 1\",\"Channel 2\",\"Channel 3\"])\n",
    "result_df.to_csv(\"Output.csv\",index=False)\n",
    "cv2.waitKey(0)\n",
    "cv2.destroyAllWindows()"
   ]
  },
  {
   "cell_type": "code",
   "execution_count": null,
   "metadata": {},
   "outputs": [],
   "source": []
  },
  {
   "cell_type": "code",
   "execution_count": null,
   "metadata": {},
   "outputs": [],
   "source": []
  },
  {
   "cell_type": "code",
   "execution_count": null,
   "metadata": {},
   "outputs": [],
   "source": []
  },
  {
   "cell_type": "code",
   "execution_count": null,
   "metadata": {},
   "outputs": [],
   "source": []
  }
 ],
 "metadata": {
  "kernelspec": {
   "display_name": "Python 3",
   "language": "python",
   "name": "python3"
  },
  "language_info": {
   "codemirror_mode": {
    "name": "ipython",
    "version": 3
   },
   "file_extension": ".py",
   "mimetype": "text/x-python",
   "name": "python",
   "nbconvert_exporter": "python",
   "pygments_lexer": "ipython3",
   "version": "3.6.8"
  }
 },
 "nbformat": 4,
 "nbformat_minor": 2
}
